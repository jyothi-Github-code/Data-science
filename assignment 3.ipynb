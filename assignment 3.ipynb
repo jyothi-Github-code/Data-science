{
 "cells": [
  {
   "cell_type": "code",
   "execution_count": 27,
   "id": "6ea2dffa",
   "metadata": {},
   "outputs": [],
   "source": [
    "sampleDict= {\n",
    "    \"country\": {\n",
    "        \"Indian Cricket Team\":{\n",
    "            \"name\":[\"Rohit\",\"Virat\",\"Rahul\",\"Shami\",\"Bumrah\"],\n",
    "            \"Runs\":{\n",
    "                \"Rohit\":47,\n",
    "                \"Virat\":54,\n",
    "                \"Rahul\":66\n",
    "            }\n",
    "        }\n",
    "    }\n",
    "}\n",
    "\n"
   ]
  },
  {
   "cell_type": "code",
   "execution_count": 33,
   "id": "29c22098",
   "metadata": {},
   "outputs": [
    {
     "data": {
      "text/plain": [
       "54"
      ]
     },
     "execution_count": 33,
     "metadata": {},
     "output_type": "execute_result"
    }
   ],
   "source": [
    "virat_runs = sampleDict[\"country\"][\"Indian Cricket Team\"][\"Runs\"][\"Virat\"]\n",
    "virat_runs"
   ]
  },
  {
   "cell_type": "code",
   "execution_count": 34,
   "id": "7ea3ee9c",
   "metadata": {},
   "outputs": [],
   "source": [
    "sampleDict={'a':100,'b':2800, 'c':300}"
   ]
  },
  {
   "cell_type": "code",
   "execution_count": 35,
   "id": "65d0b3b0",
   "metadata": {},
   "outputs": [
    {
     "name": "stdout",
     "output_type": "stream",
     "text": [
      "False\n"
     ]
    }
   ],
   "source": [
    "is_not_present=2800 not in sampleDict.values()\n",
    "print(is_not_present)"
   ]
  },
  {
   "cell_type": "code",
   "execution_count": 1,
   "id": "0a886c7a",
   "metadata": {},
   "outputs": [],
   "source": [
    "sample_set={\"surya\",\"kapil\",\"msd\"}\n",
    "sample_list=[\"sachin\",\"siraj\",\"sehwag\"]\n"
   ]
  },
  {
   "cell_type": "code",
   "execution_count": 2,
   "id": "d128b55f",
   "metadata": {},
   "outputs": [
    {
     "data": {
      "text/plain": [
       "list"
      ]
     },
     "execution_count": 2,
     "metadata": {},
     "output_type": "execute_result"
    }
   ],
   "source": [
    "type(sample_list)"
   ]
  },
  {
   "cell_type": "code",
   "execution_count": 3,
   "id": "d6ccd8c3",
   "metadata": {},
   "outputs": [
    {
     "data": {
      "text/plain": [
       "{'sachin', 'sehwag', 'siraj'}"
      ]
     },
     "execution_count": 3,
     "metadata": {},
     "output_type": "execute_result"
    }
   ],
   "source": [
    "simple_list=set(sample_list)\n",
    "simple_list"
   ]
  },
  {
   "cell_type": "code",
   "execution_count": null,
   "id": "ffe5db44",
   "metadata": {},
   "outputs": [],
   "source": []
  },
  {
   "cell_type": "code",
   "execution_count": 4,
   "id": "e55f57be",
   "metadata": {},
   "outputs": [
    {
     "data": {
      "text/plain": [
       "{'kapil', 'msd', 'sachin', 'sehwag', 'siraj', 'surya'}"
      ]
     },
     "execution_count": 4,
     "metadata": {},
     "output_type": "execute_result"
    }
   ],
   "source": [
    "sample_set.update(simple_list)\n",
    "sample_set\n"
   ]
  },
  {
   "cell_type": "code",
   "execution_count": 11,
   "id": "d7480ad7",
   "metadata": {},
   "outputs": [],
   "source": [
    "#python program to return new set of identical items\n",
    "set1={10,20,30,40,50}\n",
    "set2={30,40,50,60,70}\n"
   ]
  },
  {
   "cell_type": "code",
   "execution_count": 6,
   "id": "69774a8e",
   "metadata": {},
   "outputs": [
    {
     "name": "stdout",
     "output_type": "stream",
     "text": [
      "{40, 50, 30}\n"
     ]
    }
   ],
   "source": [
    "# identical_items = set(filter(lambda x: x in set2, set1)),another way of printing identical items\n",
    "set1.intersection_update(set2)\n",
    "print(set1)\n"
   ]
  },
  {
   "cell_type": "code",
   "execution_count": 12,
   "id": "a78f3191",
   "metadata": {},
   "outputs": [
    {
     "data": {
      "text/plain": [
       "{10, 20, 30, 40, 50, 60, 70}"
      ]
     },
     "execution_count": 12,
     "metadata": {},
     "output_type": "execute_result"
    }
   ],
   "source": [
    "#code for joining set of items\n",
    "joined_set=set1.union(set2)\n",
    "joined_set"
   ]
  },
  {
   "cell_type": "code",
   "execution_count": 51,
   "id": "fe954b47",
   "metadata": {},
   "outputs": [
    {
     "name": "stdout",
     "output_type": "stream",
     "text": [
      "1 4 9 16 25 36 49 "
     ]
    }
   ],
   "source": [
    "n=[1,2,3,4,5,6,7]\n",
    "\n",
    "for number in n:\n",
    "    print(number ** 2,end=\" \")\n"
   ]
  },
  {
   "cell_type": "code",
   "execution_count": 63,
   "id": "c225426f",
   "metadata": {},
   "outputs": [
    {
     "name": "stdout",
     "output_type": "stream",
     "text": [
      "[10, 20, [300, 400, [5000, 6000, 7000], 500], 30, 40]\n"
     ]
    }
   ],
   "source": [
    "\n",
    "#program to add 7000 after 6000\n",
    "list1=[10, 20, [300, 400, [5000,6000], 500], 30, 40]\n",
    "\n",
    "new_list=list1[2][2]\n",
    "new_list.append(7000)\n",
    "print(list1)"
   ]
  },
  {
   "cell_type": "code",
   "execution_count": null,
   "id": "dfcd54f1",
   "metadata": {},
   "outputs": [],
   "source": []
  },
  {
   "cell_type": "code",
   "execution_count": null,
   "id": "f0c3f164",
   "metadata": {},
   "outputs": [],
   "source": []
  },
  {
   "cell_type": "code",
   "execution_count": null,
   "id": "fe6345f4",
   "metadata": {},
   "outputs": [],
   "source": []
  },
  {
   "cell_type": "code",
   "execution_count": null,
   "id": "d355d4d0",
   "metadata": {},
   "outputs": [],
   "source": []
  },
  {
   "cell_type": "code",
   "execution_count": null,
   "id": "9c23b5bb",
   "metadata": {},
   "outputs": [],
   "source": []
  },
  {
   "cell_type": "code",
   "execution_count": null,
   "id": "4ed551ee",
   "metadata": {},
   "outputs": [],
   "source": []
  },
  {
   "cell_type": "code",
   "execution_count": null,
   "id": "0a44163c",
   "metadata": {},
   "outputs": [],
   "source": []
  },
  {
   "cell_type": "code",
   "execution_count": null,
   "id": "57949dbc",
   "metadata": {},
   "outputs": [],
   "source": []
  },
  {
   "cell_type": "code",
   "execution_count": 56,
   "id": "3404648f",
   "metadata": {},
   "outputs": [],
   "source": [
    "new_list"
   ]
  },
  {
   "cell_type": "code",
   "execution_count": null,
   "id": "51f07c3f",
   "metadata": {},
   "outputs": [],
   "source": []
  },
  {
   "cell_type": "code",
   "execution_count": null,
   "id": "7130e1b3",
   "metadata": {},
   "outputs": [],
   "source": []
  },
  {
   "cell_type": "code",
   "execution_count": null,
   "id": "c6c8e7d1",
   "metadata": {},
   "outputs": [],
   "source": []
  },
  {
   "cell_type": "code",
   "execution_count": null,
   "id": "cc5c4d6f",
   "metadata": {},
   "outputs": [],
   "source": []
  },
  {
   "cell_type": "code",
   "execution_count": null,
   "id": "44817c95",
   "metadata": {},
   "outputs": [],
   "source": []
  },
  {
   "cell_type": "code",
   "execution_count": null,
   "id": "24886469",
   "metadata": {},
   "outputs": [],
   "source": []
  },
  {
   "cell_type": "code",
   "execution_count": null,
   "id": "96da3d7f",
   "metadata": {},
   "outputs": [],
   "source": []
  },
  {
   "cell_type": "code",
   "execution_count": null,
   "id": "f7d83191",
   "metadata": {},
   "outputs": [],
   "source": []
  },
  {
   "cell_type": "code",
   "execution_count": null,
   "id": "dccdf6a7",
   "metadata": {},
   "outputs": [],
   "source": []
  },
  {
   "cell_type": "code",
   "execution_count": null,
   "id": "bca47251",
   "metadata": {},
   "outputs": [],
   "source": []
  },
  {
   "cell_type": "code",
   "execution_count": null,
   "id": "2a2f685d",
   "metadata": {},
   "outputs": [],
   "source": []
  },
  {
   "cell_type": "code",
   "execution_count": null,
   "id": "23ba521d",
   "metadata": {},
   "outputs": [],
   "source": []
  }
 ],
 "metadata": {
  "kernelspec": {
   "display_name": "Python 3 (ipykernel)",
   "language": "python",
   "name": "python3"
  },
  "language_info": {
   "codemirror_mode": {
    "name": "ipython",
    "version": 3
   },
   "file_extension": ".py",
   "mimetype": "text/x-python",
   "name": "python",
   "nbconvert_exporter": "python",
   "pygments_lexer": "ipython3",
   "version": "3.11.5"
  }
 },
 "nbformat": 4,
 "nbformat_minor": 5
}
