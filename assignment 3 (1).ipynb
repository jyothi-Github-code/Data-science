{
 "cells": [
  {
   "cell_type": "markdown",
   "id": "888ca5d8",
   "metadata": {},
   "source": [
    "# 1"
   ]
  },
  {
   "cell_type": "code",
   "execution_count": 27,
   "id": "6ea2dffa",
   "metadata": {},
   "outputs": [],
   "source": [
    "# program to display virat score\n",
    "sampleDict= {\n",
    "    \"country\": {\n",
    "        \"Indian Cricket Team\":{\n",
    "            \"name\":[\"Rohit\",\"Virat\",\"Rahul\",\"Shami\",\"Bumrah\"],\n",
    "            \"Runs\":{\n",
    "                \"Rohit\":47,\n",
    "                \"Virat\":54,\n",
    "                \"Rahul\":66\n",
    "            }\n",
    "        }\n",
    "    }\n",
    "}\n",
    "\n"
   ]
  },
  {
   "cell_type": "code",
   "execution_count": 33,
   "id": "29c22098",
   "metadata": {},
   "outputs": [
    {
     "data": {
      "text/plain": [
       "54"
      ]
     },
     "execution_count": 33,
     "metadata": {},
     "output_type": "execute_result"
    }
   ],
   "source": [
    "virat_runs = sampleDict[\"country\"][\"Indian Cricket Team\"][\"Runs\"][\"Virat\"]\n",
    "virat_runs"
   ]
  },
  {
   "cell_type": "markdown",
   "id": "a787768f",
   "metadata": {},
   "source": [
    "# 2"
   ]
  },
  {
   "cell_type": "code",
   "execution_count": 34,
   "id": "7ea3ee9c",
   "metadata": {},
   "outputs": [],
   "source": [
    "#code for checking 2800 is not present\n",
    "sampleDict={'a':100,'b':2800, 'c':300}"
   ]
  },
  {
   "cell_type": "code",
   "execution_count": 35,
   "id": "65d0b3b0",
   "metadata": {},
   "outputs": [
    {
     "name": "stdout",
     "output_type": "stream",
     "text": [
      "False\n"
     ]
    }
   ],
   "source": [
    "is_not_present=2800 not in sampleDict.values()\n",
    "print(is_not_present)"
   ]
  },
  {
   "cell_type": "markdown",
   "id": "1c0942c0",
   "metadata": {},
   "source": [
    "# 3"
   ]
  },
  {
   "cell_type": "code",
   "execution_count": 1,
   "id": "0a886c7a",
   "metadata": {},
   "outputs": [],
   "source": [
    "#joining set with list\n",
    "sample_set={\"surya\",\"kapil\",\"msd\"}\n",
    "sample_list=[\"sachin\",\"siraj\",\"sehwag\"]\n"
   ]
  },
  {
   "cell_type": "code",
   "execution_count": 3,
   "id": "d6ccd8c3",
   "metadata": {},
   "outputs": [
    {
     "data": {
      "text/plain": [
       "{'sachin', 'sehwag', 'siraj'}"
      ]
     },
     "execution_count": 3,
     "metadata": {},
     "output_type": "execute_result"
    }
   ],
   "source": [
    "simple_list=set(sample_list)\n",
    "simple_list"
   ]
  },
  {
   "cell_type": "code",
   "execution_count": 4,
   "id": "e55f57be",
   "metadata": {},
   "outputs": [
    {
     "data": {
      "text/plain": [
       "{'kapil', 'msd', 'sachin', 'sehwag', 'siraj', 'surya'}"
      ]
     },
     "execution_count": 4,
     "metadata": {},
     "output_type": "execute_result"
    }
   ],
   "source": [
    "sample_set.update(simple_list)\n",
    "sample_set\n"
   ]
  },
  {
   "cell_type": "markdown",
   "id": "edd93c51",
   "metadata": {},
   "source": [
    "# 4"
   ]
  },
  {
   "cell_type": "code",
   "execution_count": 11,
   "id": "d7480ad7",
   "metadata": {},
   "outputs": [],
   "source": [
    "#python program to return new set of identical items\n",
    "set1={10,20,30,40,50}\n",
    "set2={30,40,50,60,70}\n"
   ]
  },
  {
   "cell_type": "code",
   "execution_count": 6,
   "id": "69774a8e",
   "metadata": {},
   "outputs": [
    {
     "name": "stdout",
     "output_type": "stream",
     "text": [
      "{40, 50, 30}\n"
     ]
    }
   ],
   "source": [
    "# identical_items = set(filter(lambda x: x in set2, set1)),another way of printing identical items\n",
    "set1.intersection_update(set2)\n",
    "print(set1)\n"
   ]
  },
  {
   "cell_type": "code",
   "execution_count": 12,
   "id": "a78f3191",
   "metadata": {},
   "outputs": [
    {
     "data": {
      "text/plain": [
       "{10, 20, 30, 40, 50, 60, 70}"
      ]
     },
     "execution_count": 12,
     "metadata": {},
     "output_type": "execute_result"
    }
   ],
   "source": [
    "#code for joining set of items\n",
    "joined_set=set1.union(set2)\n",
    "joined_set"
   ]
  },
  {
   "cell_type": "markdown",
   "id": "e0ab2769",
   "metadata": {},
   "source": [
    "# 5"
   ]
  },
  {
   "cell_type": "code",
   "execution_count": 51,
   "id": "fe954b47",
   "metadata": {},
   "outputs": [
    {
     "name": "stdout",
     "output_type": "stream",
     "text": [
      "1 4 9 16 25 36 49 "
     ]
    }
   ],
   "source": [
    "#code for printing squares\n",
    "\n",
    "n=[1,2,3,4,5,6,7]\n",
    "\n",
    "for number in n:\n",
    "    print(number ** 2,end=\" \")\n"
   ]
  },
  {
   "cell_type": "markdown",
   "id": "4f0f29ef",
   "metadata": {},
   "source": [
    "# 6"
   ]
  },
  {
   "cell_type": "code",
   "execution_count": 63,
   "id": "c225426f",
   "metadata": {},
   "outputs": [
    {
     "name": "stdout",
     "output_type": "stream",
     "text": [
      "[10, 20, [300, 400, [5000, 6000, 7000], 500], 30, 40]\n"
     ]
    }
   ],
   "source": [
    "\n",
    "#program to add 7000 after 6000\n",
    "list1=[10, 20, [300, 400, [5000,6000], 500], 30, 40]\n",
    "\n",
    "new_list=list1[2][2]\n",
    "new_list.append(7000)\n",
    "print(list1)"
   ]
  }
 ],
 "metadata": {
  "kernelspec": {
   "display_name": "Python 3 (ipykernel)",
   "language": "python",
   "name": "python3"
  },
  "language_info": {
   "codemirror_mode": {
    "name": "ipython",
    "version": 3
   },
   "file_extension": ".py",
   "mimetype": "text/x-python",
   "name": "python",
   "nbconvert_exporter": "python",
   "pygments_lexer": "ipython3",
   "version": "3.11.5"
  }
 },
 "nbformat": 4,
 "nbformat_minor": 5
}
